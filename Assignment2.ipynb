{
 "cells": [
  {
   "cell_type": "markdown",
   "id": "92778525",
   "metadata": {},
   "source": [
    "# Assignment 2: Neural Networks and Optimization (33 marks total)\n",
    "### Due: October 3 at 11:59pm\n",
    "\n",
    "### Name: "
   ]
  },
  {
   "cell_type": "markdown",
   "id": "ce31b39a",
   "metadata": {},
   "source": [
    "### In this assignment, you will need to write code that uses a linear model and a neural network to perform a regression task. You will also be asked to describe the process by which you came up with the code. More details can be found below. Please cite any websites or AI tools that you used to help you with this assignment."
   ]
  },
  {
   "cell_type": "markdown",
   "id": "b58204b3",
   "metadata": {},
   "source": [
    "## Part 1: Linear Regression vs. Neural Network\n",
    "\n",
    "For this assignment, we will be using the concrete example from yellowbrick. We will be evaluating how well neural networks perform compared to linear regression."
   ]
  },
  {
   "cell_type": "markdown",
   "id": "8fb23660",
   "metadata": {},
   "source": [
    "### Step 0: Import Libraries"
   ]
  },
  {
   "cell_type": "code",
   "execution_count": null,
   "id": "6ac1a125",
   "metadata": {},
   "outputs": [],
   "source": [
    "import numpy as np\n",
    "import pandas as pd\n",
    "import matplotlib.pyplot as plt\n",
    "import seaborn as sns"
   ]
  },
  {
   "cell_type": "code",
   "execution_count": null,
   "id": "721544c6",
   "metadata": {},
   "outputs": [],
   "source": [
    "import warnings\n",
    "warnings.filterwarnings(action='ignore')"
   ]
  },
  {
   "cell_type": "markdown",
   "id": "8219f163",
   "metadata": {},
   "source": [
    "### Step 1: Data Input (2 marks)\n",
    "\n",
    "The data used for this task can be imported using the yellowbrick library: \n",
    "https://www.scikit-yb.org/en/latest/api/datasets/concrete.html\n",
    "\n",
    "Use the yellowbrick function `load_concrete()` to load the concrete dataset into the feature matrix `X` and target vector `y`.\n",
    "\n",
    "*Note: the yellowbrick library is not included in the default Anaconda installation, so you will need to install it*"
   ]
  },
  {
   "cell_type": "code",
   "execution_count": null,
   "id": "2af8bd32",
   "metadata": {},
   "outputs": [],
   "source": [
    "# TO DO: Import concrete dataset from yellowbrick library (0.5 marks)\n",
    "\n",
    "# TO DO: Print size and type of X and y (0.5 marks)\n"
   ]
  },
  {
   "cell_type": "code",
   "execution_count": null,
   "id": "1f1a16f0",
   "metadata": {},
   "outputs": [],
   "source": [
    "# TO DO: Inspect the first few columns of the imported feature matrix (0.5 marks)\n"
   ]
  },
  {
   "cell_type": "code",
   "execution_count": null,
   "id": "a14dac7b",
   "metadata": {},
   "outputs": [],
   "source": [
    "# TO DO: Use .describe() to inspect the mean and variance of each feature (0.5 marks)\n"
   ]
  },
  {
   "cell_type": "markdown",
   "id": "42fea4cc",
   "metadata": {},
   "source": [
    "### Step 2: Data Processing (2 marks)\n",
    "\n",
    "Check if there are any missing values and fill them in if necessary. Remove any non-numeric columns."
   ]
  },
  {
   "cell_type": "code",
   "execution_count": null,
   "id": "8479f3f9",
   "metadata": {},
   "outputs": [],
   "source": [
    "# TO DO: Process the data - fill-in any missing values and remove any non-numeric columns (0.5 marks)\n"
   ]
  },
  {
   "cell_type": "markdown",
   "id": "bc828510",
   "metadata": {},
   "source": [
    "You can add the target vector and the feature matrix together and inspect the relationship between the features and target using a `pairplot()`"
   ]
  },
  {
   "cell_type": "code",
   "execution_count": null,
   "id": "36a1b308",
   "metadata": {},
   "outputs": [],
   "source": [
    "# TO DO: Add the target vector and the feature matrix together (0.5 marks)\n"
   ]
  },
  {
   "cell_type": "code",
   "execution_count": null,
   "id": "11b44c93",
   "metadata": {},
   "outputs": [],
   "source": [
    "# TO DO: Use pairplot() (0.5 marks)\n"
   ]
  },
  {
   "cell_type": "markdown",
   "id": "c8df0b2a",
   "metadata": {},
   "source": [
    "The concrete data is already be split into the feature matrix and target vector. The next step is to split the data into training and testing subsets. For this assignment, you can use `train_test_split()` with `random_state=0`"
   ]
  },
  {
   "cell_type": "code",
   "execution_count": null,
   "id": "5eef21dc",
   "metadata": {},
   "outputs": [],
   "source": [
    "# TO DO: Split the data into training and testing data (0.5 marks)\n"
   ]
  },
  {
   "cell_type": "markdown",
   "id": "0a43a177",
   "metadata": {},
   "source": [
    "Looking at the mean and variance of the dataset, it is clear that the features have a wide range of values. You can use the code below to scale the feature matrix\n",
    "\n",
    "*Note: `StandardScaler()` scales the data to a mean of 0 and a variance of 1*"
   ]
  },
  {
   "cell_type": "code",
   "execution_count": null,
   "id": "efa6d71f",
   "metadata": {},
   "outputs": [],
   "source": [
    "from sklearn.preprocessing import StandardScaler\n",
    "\n",
    "scaler = StandardScaler()\n",
    "train_scaled = scaler.fit_transform(train_features)\n",
    "test_scaled = scaler.transform(test_features)"
   ]
  },
  {
   "cell_type": "markdown",
   "id": "fe3625cb",
   "metadata": {},
   "source": [
    "### Step 3: Implement Machine Learning Model (2 marks)\n",
    "\n",
    "1. Import `LinearRegression` from sklearn\n",
    "2. Instantiate model `LinearRegression()`\n",
    "3. Implement the machine learning model with the scaled data"
   ]
  },
  {
   "cell_type": "code",
   "execution_count": null,
   "id": "6f746b58",
   "metadata": {},
   "outputs": [],
   "source": [
    "# TO DO: ADD YOUR CODE HERE\n"
   ]
  },
  {
   "cell_type": "markdown",
   "id": "4c58cd4b",
   "metadata": {},
   "source": [
    "### Step 4: Validate Model (3 marks)\n",
    "\n",
    "Calculate the training and validation accuracy using mean squared error."
   ]
  },
  {
   "cell_type": "code",
   "execution_count": null,
   "id": "e276f4d4",
   "metadata": {},
   "outputs": [],
   "source": [
    "# TO DO: ADD YOUR CODE HERE (2 marks)\n"
   ]
  },
  {
   "cell_type": "code",
   "execution_count": null,
   "id": "a4517a54",
   "metadata": {},
   "outputs": [],
   "source": [
    "# TO DO: Print the results (1 mark)\n"
   ]
  },
  {
   "cell_type": "markdown",
   "id": "b520eb36",
   "metadata": {},
   "source": [
    "## Part B: Neural Network\n",
    "\n",
    "Now we will repeat the above analysis using a neural network. For this assignment, we will be using the PyTorch library."
   ]
  },
  {
   "cell_type": "code",
   "execution_count": null,
   "id": "4c8a6d08",
   "metadata": {},
   "outputs": [],
   "source": [
    "import torch\n",
    "from torch import nn\n",
    "from torch.utils.data import TensorDataset, DataLoader"
   ]
  },
  {
   "cell_type": "markdown",
   "id": "8541dc26",
   "metadata": {},
   "source": [
    "### Step 2: Data Processing (2 marks)\n",
    "\n",
    "To make this analysis easier, we can convert the data into tensors."
   ]
  },
  {
   "cell_type": "code",
   "execution_count": null,
   "id": "8d6e1866",
   "metadata": {},
   "outputs": [],
   "source": [
    "# TO DO: Convert training and testing data to tensors (1 mark)\n"
   ]
  },
  {
   "cell_type": "code",
   "execution_count": null,
   "id": "d89f021d",
   "metadata": {},
   "outputs": [],
   "source": [
    "# TO DO: Print the size of the training features and labels (1 mark)\n"
   ]
  },
  {
   "cell_type": "markdown",
   "id": "8468e488",
   "metadata": {},
   "source": [
    "The labels must be changed from a vector to a 2-D array to make sure that the math works properly. Use the provided code below to fix this issue:"
   ]
  },
  {
   "cell_type": "code",
   "execution_count": null,
   "id": "e616355f",
   "metadata": {},
   "outputs": [],
   "source": [
    "y_train = y_train.unsqueeze(1)\n",
    "y_test = y_test.unsqueeze(1)\n",
    "print(y_train.size())"
   ]
  },
  {
   "cell_type": "markdown",
   "id": "794ca2aa",
   "metadata": {},
   "source": [
    "### Step 3: Implement Neural Network (10 marks)"
   ]
  },
  {
   "cell_type": "markdown",
   "id": "c225eb53",
   "metadata": {},
   "source": [
    "For this assignment, we will use the SGD optimizer with the following parameters:\n",
    "- Initial learning rate = 0.001\n",
    "- Momentum = 0.9\n",
    "\n",
    "We will use the same learning rate schedule that was used in the Backpropagation Example on D2L."
   ]
  },
  {
   "cell_type": "markdown",
   "id": "7a3b0513",
   "metadata": {},
   "source": [
    "For the optimization process, we will need to both train and test the data for each epoch. It is up to you how you want to organize your code for this process. You will need to include the following steps:\n",
    "- Load your data using the `DataLoader()`\n",
    "- Define a model with two hidden layers with 50 hidden units each\n",
    "- Choose your loss function\n",
    "- initialize your optimizer\n",
    "- Set up your training and testing loops for 100 epochs\n",
    "    - Remember that you must go through the training and testing code for each epoch sequentially\n",
    "- Print out the average training and testing loss for each epoch (or plot in graph)"
   ]
  },
  {
   "cell_type": "code",
   "execution_count": null,
   "id": "f974e9f4",
   "metadata": {},
   "outputs": [],
   "source": [
    "from torch.optim.lr_scheduler import StepLR\n",
    "# TO DO: ADD YOUR CODE HERE\n"
   ]
  },
  {
   "cell_type": "markdown",
   "id": "bf319621",
   "metadata": {},
   "source": [
    "### Questions (6 marks)\n",
    "1. How did the results from the linear model compare to the results from the neural network? Why do you think one performed better than the other?\n",
    "1. If you run the optimization/backpropagation code multiple times, you will see that you get different loss values. Why is this?\n",
    "1. Compare the results from SGD to using Adam with default parameters and a constant learning rate of 0.01. Which model would you select to use and why?\n",
    "\n",
    "*ANSWER HERE*\n"
   ]
  },
  {
   "cell_type": "markdown",
   "id": "664ff8ae",
   "metadata": {},
   "source": [
    "### Process Description (4 marks)\n",
    "Please describe the process you used to create your code. Cite any websites or generative AI tools used. You can use the following questions as guidance:\n",
    "1. Where did you source your code?\n",
    "1. In what order did you complete the steps?\n",
    "1. If you used generative AI, what prompts did you use? Did you need to modify the code at all? Why or why not?\n",
    "1. Did you have any challenges? If yes, what were they? If not, what helped you to be successful?"
   ]
  },
  {
   "cell_type": "markdown",
   "id": "d0e837da",
   "metadata": {},
   "source": [
    "*DESCRIBE YOUR PROCESS HERE - BE SPECIFIC*"
   ]
  },
  {
   "cell_type": "markdown",
   "id": "cd97b6ac",
   "metadata": {},
   "source": [
    "## Part 2: Reflection (2 marks)\n",
    "Include a sentence or two about:\n",
    "- what you liked or disliked,\n",
    "- found interesting, confusing, challenging, motivating\n",
    "while working on this assignment.\n",
    "\n",
    "\n",
    "*ADD YOUR THOUGHTS HERE*"
   ]
  },
  {
   "cell_type": "code",
   "execution_count": null,
   "id": "867c484f",
   "metadata": {},
   "outputs": [],
   "source": []
  }
 ],
 "metadata": {
  "kernelspec": {
   "display_name": "Python 3 (ipykernel)",
   "language": "python",
   "name": "python3"
  },
  "language_info": {
   "codemirror_mode": {
    "name": "ipython",
    "version": 3
   },
   "file_extension": ".py",
   "mimetype": "text/x-python",
   "name": "python",
   "nbconvert_exporter": "python",
   "pygments_lexer": "ipython3",
   "version": "3.11.5"
  }
 },
 "nbformat": 4,
 "nbformat_minor": 5
}
